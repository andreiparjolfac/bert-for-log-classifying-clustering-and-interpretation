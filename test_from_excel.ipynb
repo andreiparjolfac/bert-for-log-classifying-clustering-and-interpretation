{
 "cells": [
  {
   "cell_type": "code",
   "execution_count": 1,
   "metadata": {},
   "outputs": [
    {
     "name": "stderr",
     "output_type": "stream",
     "text": [
      "c:\\Users\\APARJOL\\AppData\\Local\\Programs\\Python\\Python310\\lib\\site-packages\\tqdm\\auto.py:21: TqdmWarning: IProgress not found. Please update jupyter and ipywidgets. See https://ipywidgets.readthedocs.io/en/stable/user_install.html\n",
      "  from .autonotebook import tqdm as notebook_tqdm\n"
     ]
    },
    {
     "data": {
      "text/plain": [
       "'cuda'"
      ]
     },
     "execution_count": 1,
     "metadata": {},
     "output_type": "execute_result"
    }
   ],
   "source": [
    "import torch \n",
    "import transformers \n",
    "device = \"cuda\" if torch.cuda.is_available() else \"cpu\"\n",
    "device"
   ]
  },
  {
   "cell_type": "code",
   "execution_count": 2,
   "metadata": {},
   "outputs": [],
   "source": [
    "import pandas as pd \n",
    "\n",
    "df = pd.read_csv(\"data/dataprocesed.csv\")\n",
    "labels_vect = df[\"Issue Type\"].unique()\n",
    "labels = {labels_vect[i]:i for i in range(len(labels_vect))}\n",
    "df['Issue Type']=df['Issue Type'].apply(lambda x:labels[x])\n",
    "tokenizer = transformers.BertTokenizer.from_pretrained(\"model_save\",local_files_only=True)\n",
    "\n"
   ]
  },
  {
   "cell_type": "code",
   "execution_count": 3,
   "metadata": {},
   "outputs": [
    {
     "name": "stderr",
     "output_type": "stream",
     "text": [
      "Token indices sequence length is longer than the specified maximum sequence length for this model (514 > 512). Running this sequence through the model will result in indexing errors\n"
     ]
    },
    {
     "name": "stdout",
     "output_type": "stream",
     "text": [
      "DONE!~\n",
      "14751 total logfiles!\n"
     ]
    }
   ],
   "source": [
    "import numpy as np \n",
    "MAX_LEN = 128\n",
    "input_ids = []\n",
    "true_labels = df[\"Issue Type\"].to_numpy().astype(int)\n",
    "\n",
    "orig_to_chunk ={}\n",
    "orig_to_len = {}\n",
    "for i in range(len(df)):\n",
    "    for j in range(1,5):\n",
    "        col=\"JuicePath.\"+str(j)\n",
    "        if isinstance(df[col][i],str):\n",
    "            encoded_sent = tokenizer.encode(df[col][i],add_special_tokens=True)\n",
    "            orig_to_chunk[i]=[]\n",
    "            orig_to_len[i]=[]\n",
    "            if len(encoded_sent)>MAX_LEN:\n",
    "                encoded_sent=encoded_sent[1:-1]\n",
    "                chunk_len = MAX_LEN-2\n",
    "                for k in range(0,len(encoded_sent),chunk_len):\n",
    "                    tokens = encoded_sent[k:k+chunk_len]\n",
    "                    chunk = [tokenizer.cls_token_id] + tokens + [tokenizer.sep_token_id]\n",
    "                    input_ids.append(chunk)\n",
    "                    orig_to_chunk[i].append(len(input_ids) - 1)\n",
    "                    orig_to_len[i].append(len(chunk))\n",
    "                    \n",
    "            else:\n",
    "                input_ids.append(encoded_sent)\n",
    "                orig_to_chunk[i].append(len(input_ids) - 1)\n",
    "                orig_to_len[i].append(len(encoded_sent))\n",
    "                \n",
    "print(\"DONE!~\")\n",
    "print(f\"{len(input_ids)} total logfiles!\")\n"
   ]
  },
  {
   "cell_type": "code",
   "execution_count": 4,
   "metadata": {},
   "outputs": [],
   "source": [
    "from keras_preprocessing.sequence import pad_sequences\n",
    "\n",
    "chunk_labels = [0]*len(input_ids)\n",
    "\n",
    "test_input_ids = pad_sequences(input_ids, maxlen=MAX_LEN, \n",
    "                               dtype=\"long\", truncating=\"post\", padding=\"post\")\n",
    "\n",
    "test_attention_masks = []\n",
    "\n",
    "for seq in test_input_ids:\n",
    "  seq_mask = [int(i>0) for i in seq]\n",
    "  test_attention_masks.append(seq_mask) \n",
    "\n",
    "test_inputs = torch.tensor(test_input_ids)\n",
    "test_masks = torch.tensor(test_attention_masks)\n",
    "chunk_labels = torch.tensor(chunk_labels)\n"
   ]
  },
  {
   "cell_type": "code",
   "execution_count": 5,
   "metadata": {},
   "outputs": [],
   "source": [
    "batch_size = 32 \n",
    "from torch.utils.data import TensorDataset,DataLoader,SequentialSampler,RandomSampler\n",
    "\n",
    "test_data = TensorDataset(test_inputs,test_masks,chunk_labels)\n",
    "test_sampler = SequentialSampler(test_data)\n",
    "test_dataloader = DataLoader(test_data,sampler=test_sampler,batch_size=batch_size)\n"
   ]
  },
  {
   "cell_type": "code",
   "execution_count": 6,
   "metadata": {},
   "outputs": [
    {
     "data": {
      "text/plain": [
       "BertForSequenceClassification(\n",
       "  (bert): BertModel(\n",
       "    (embeddings): BertEmbeddings(\n",
       "      (word_embeddings): Embedding(30522, 768, padding_idx=0)\n",
       "      (position_embeddings): Embedding(512, 768)\n",
       "      (token_type_embeddings): Embedding(2, 768)\n",
       "      (LayerNorm): LayerNorm((768,), eps=1e-12, elementwise_affine=True)\n",
       "      (dropout): Dropout(p=0.1, inplace=False)\n",
       "    )\n",
       "    (encoder): BertEncoder(\n",
       "      (layer): ModuleList(\n",
       "        (0-11): 12 x BertLayer(\n",
       "          (attention): BertAttention(\n",
       "            (self): BertSelfAttention(\n",
       "              (query): Linear(in_features=768, out_features=768, bias=True)\n",
       "              (key): Linear(in_features=768, out_features=768, bias=True)\n",
       "              (value): Linear(in_features=768, out_features=768, bias=True)\n",
       "              (dropout): Dropout(p=0.1, inplace=False)\n",
       "            )\n",
       "            (output): BertSelfOutput(\n",
       "              (dense): Linear(in_features=768, out_features=768, bias=True)\n",
       "              (LayerNorm): LayerNorm((768,), eps=1e-12, elementwise_affine=True)\n",
       "              (dropout): Dropout(p=0.1, inplace=False)\n",
       "            )\n",
       "          )\n",
       "          (intermediate): BertIntermediate(\n",
       "            (dense): Linear(in_features=768, out_features=3072, bias=True)\n",
       "            (intermediate_act_fn): GELUActivation()\n",
       "          )\n",
       "          (output): BertOutput(\n",
       "            (dense): Linear(in_features=3072, out_features=768, bias=True)\n",
       "            (LayerNorm): LayerNorm((768,), eps=1e-12, elementwise_affine=True)\n",
       "            (dropout): Dropout(p=0.1, inplace=False)\n",
       "          )\n",
       "        )\n",
       "      )\n",
       "    )\n",
       "    (pooler): BertPooler(\n",
       "      (dense): Linear(in_features=768, out_features=768, bias=True)\n",
       "      (activation): Tanh()\n",
       "    )\n",
       "  )\n",
       "  (dropout): Dropout(p=0.1, inplace=False)\n",
       "  (classifier): Linear(in_features=768, out_features=5, bias=True)\n",
       ")"
      ]
     },
     "execution_count": 6,
     "metadata": {},
     "output_type": "execute_result"
    }
   ],
   "source": [
    "from transformers import BertForSequenceClassification\n",
    "\n",
    "model = BertForSequenceClassification.from_pretrained(\"model_save\",local_files_only=True)\n",
    "model.to(device)"
   ]
  },
  {
   "cell_type": "code",
   "execution_count": 7,
   "metadata": {},
   "outputs": [],
   "source": [
    "def flat_accuracy(preds,labels):\n",
    "    pred_flat = np.argmax(preds,axis=1).flatten()\n",
    "    labels_flat = labels.flatten()\n",
    "    return np.sum(pred_flat==labels_flat)/len(labels_flat)\n",
    "\n",
    "import time \n",
    "import datetime\n",
    "\n",
    "def format_time(elapsed):\n",
    "    elapsed_rounded=int(round(elapsed))\n",
    "    return str(datetime.timedelta(seconds=elapsed_rounded))"
   ]
  },
  {
   "cell_type": "code",
   "execution_count": 8,
   "metadata": {},
   "outputs": [
    {
     "name": "stdout",
     "output_type": "stream",
     "text": [
      "Batch 10 of 461 Elapsed : 0:00:04\n",
      "Batch 20 of 461 Elapsed : 0:00:04\n",
      "Batch 30 of 461 Elapsed : 0:00:05\n",
      "Batch 40 of 461 Elapsed : 0:00:06\n",
      "Batch 50 of 461 Elapsed : 0:00:07\n",
      "Batch 60 of 461 Elapsed : 0:00:08\n",
      "Batch 70 of 461 Elapsed : 0:00:09\n",
      "Batch 80 of 461 Elapsed : 0:00:09\n",
      "Batch 90 of 461 Elapsed : 0:00:10\n",
      "Batch 100 of 461 Elapsed : 0:00:11\n",
      "Batch 110 of 461 Elapsed : 0:00:12\n",
      "Batch 120 of 461 Elapsed : 0:00:13\n",
      "Batch 130 of 461 Elapsed : 0:00:14\n",
      "Batch 140 of 461 Elapsed : 0:00:14\n",
      "Batch 150 of 461 Elapsed : 0:00:15\n",
      "Batch 160 of 461 Elapsed : 0:00:16\n",
      "Batch 170 of 461 Elapsed : 0:00:17\n",
      "Batch 180 of 461 Elapsed : 0:00:18\n",
      "Batch 190 of 461 Elapsed : 0:00:19\n",
      "Batch 200 of 461 Elapsed : 0:00:19\n",
      "Batch 210 of 461 Elapsed : 0:00:20\n",
      "Batch 220 of 461 Elapsed : 0:00:21\n",
      "Batch 230 of 461 Elapsed : 0:00:22\n",
      "Batch 240 of 461 Elapsed : 0:00:23\n",
      "Batch 250 of 461 Elapsed : 0:00:24\n",
      "Batch 260 of 461 Elapsed : 0:00:24\n",
      "Batch 270 of 461 Elapsed : 0:00:25\n",
      "Batch 280 of 461 Elapsed : 0:00:26\n",
      "Batch 290 of 461 Elapsed : 0:00:27\n",
      "Batch 300 of 461 Elapsed : 0:00:28\n",
      "Batch 310 of 461 Elapsed : 0:00:28\n",
      "Batch 320 of 461 Elapsed : 0:00:29\n",
      "Batch 330 of 461 Elapsed : 0:00:30\n",
      "Batch 340 of 461 Elapsed : 0:00:31\n",
      "Batch 350 of 461 Elapsed : 0:00:32\n",
      "Batch 360 of 461 Elapsed : 0:00:33\n",
      "Batch 370 of 461 Elapsed : 0:00:33\n",
      "Batch 380 of 461 Elapsed : 0:00:34\n",
      "Batch 390 of 461 Elapsed : 0:00:35\n",
      "Batch 400 of 461 Elapsed : 0:00:36\n",
      "Batch 410 of 461 Elapsed : 0:00:37\n",
      "Batch 420 of 461 Elapsed : 0:00:38\n",
      "Batch 430 of 461 Elapsed : 0:00:39\n",
      "Batch 440 of 461 Elapsed : 0:00:39\n",
      "Batch 450 of 461 Elapsed : 0:00:40\n",
      "Batch 460 of 461 Elapsed : 0:00:41\n"
     ]
    }
   ],
   "source": [
    "model.eval()\n",
    "\n",
    "predictions = []\n",
    "\n",
    "t0 = time.time()\n",
    "\n",
    "for (step,batch) in enumerate(test_dataloader):\n",
    "    batch = tuple(x.to(device) for x in batch)\n",
    "    if step%10==0 and not step ==0:\n",
    "        print(f\"Batch {step} of {len(test_dataloader)} Elapsed : {format_time(time.time()-t0)}\")\n",
    "    b_input_ids , b_input_masks , b_labels = batch \n",
    "    with torch.no_grad():\n",
    "        outputs = model(b_input_ids,token_type_ids =None,attention_mask=b_input_masks)\n",
    "    logits = outputs[0]\n",
    "    logits = logits.detach().cpu().numpy()\n",
    "    predictions.append(logits)\n"
   ]
  },
  {
   "cell_type": "code",
   "execution_count": 9,
   "metadata": {},
   "outputs": [
    {
     "name": "stdout",
     "output_type": "stream",
     "text": [
      "14751\n"
     ]
    }
   ],
   "source": [
    "predictions=np.concatenate(predictions,axis=0)\n",
    "print(len(predictions))"
   ]
  },
  {
   "cell_type": "code",
   "execution_count": 10,
   "metadata": {},
   "outputs": [
    {
     "name": "stderr",
     "output_type": "stream",
     "text": [
      "C:\\Users\\APARJOL\\AppData\\Local\\Temp\\2\\ipykernel_32948\\2384863835.py:10: FutureWarning: The input object of type 'Tensor' is an array-like implementing one of the corresponding protocols (`__array__`, `__array_interface__` or `__array_struct__`); but not a sequence (or 0-D). In the future, this object will be coerced as if it was first converted using `np.array(obj)`. To retain the old behaviour, you have to either modify the type 'Tensor', or assign to an empty array created with `np.empty(correct_shape, dtype=object)`.\n",
      "  input_full = (np.sum(np.array(chunk_s_max),axis=0))\n",
      "C:\\Users\\APARJOL\\AppData\\Local\\Temp\\2\\ipykernel_32948\\2384863835.py:10: VisibleDeprecationWarning: Creating an ndarray from ragged nested sequences (which is a list-or-tuple of lists-or-tuples-or ndarrays with different lengths or shapes) is deprecated. If you meant to do this, you must specify 'dtype=object' when creating the ndarray.\n",
      "  input_full = (np.sum(np.array(chunk_s_max),axis=0))\n"
     ]
    },
    {
     "name": "stdout",
     "output_type": "stream",
     "text": [
      "Accuracy : 0.9963503649635036 from 1370 logs \n"
     ]
    }
   ],
   "source": [
    "def compute_pred(input):\n",
    "    return torch.argmax(input,dim=-1).item()\n",
    "total=0\n",
    "check = 0\n",
    "for test_i in range(len(true_labels)):\n",
    "    chunk_s_max = []\n",
    "    for i in range(len(orig_to_chunk[test_i])):\n",
    "        input_size = np.sum(orig_to_len[test_i])\n",
    "        chunk_s_max.append(torch.softmax(torch.tensor(predictions[orig_to_chunk[test_i][i]]),dim=-1)*orig_to_len[test_i][i]/input_size)\n",
    "    input_full = (np.sum(np.array(chunk_s_max),axis=0))\n",
    "    input_pred = compute_pred(input_full)\n",
    "    if input_pred==true_labels[test_i]:\n",
    "        check+=1\n",
    "    total+=1\n",
    "    \n",
    "\n",
    "print(f\"Accuracy : {check/total} from {total} logs \")\n"
   ]
  },
  {
   "attachments": {},
   "cell_type": "markdown",
   "metadata": {},
   "source": [
    "K-NN"
   ]
  },
  {
   "cell_type": "code",
   "execution_count": 27,
   "metadata": {},
   "outputs": [
    {
     "data": {
      "text/plain": [
       "BertForSequenceClassification(\n",
       "  (bert): BertModel(\n",
       "    (embeddings): BertEmbeddings(\n",
       "      (word_embeddings): Embedding(30522, 768, padding_idx=0)\n",
       "      (position_embeddings): Embedding(512, 768)\n",
       "      (token_type_embeddings): Embedding(2, 768)\n",
       "      (LayerNorm): LayerNorm((768,), eps=1e-12, elementwise_affine=True)\n",
       "      (dropout): Dropout(p=0.1, inplace=False)\n",
       "    )\n",
       "    (encoder): BertEncoder(\n",
       "      (layer): ModuleList(\n",
       "        (0-11): 12 x BertLayer(\n",
       "          (attention): BertAttention(\n",
       "            (self): BertSelfAttention(\n",
       "              (query): Linear(in_features=768, out_features=768, bias=True)\n",
       "              (key): Linear(in_features=768, out_features=768, bias=True)\n",
       "              (value): Linear(in_features=768, out_features=768, bias=True)\n",
       "              (dropout): Dropout(p=0.1, inplace=False)\n",
       "            )\n",
       "            (output): BertSelfOutput(\n",
       "              (dense): Linear(in_features=768, out_features=768, bias=True)\n",
       "              (LayerNorm): LayerNorm((768,), eps=1e-12, elementwise_affine=True)\n",
       "              (dropout): Dropout(p=0.1, inplace=False)\n",
       "            )\n",
       "          )\n",
       "          (intermediate): BertIntermediate(\n",
       "            (dense): Linear(in_features=768, out_features=3072, bias=True)\n",
       "            (intermediate_act_fn): GELUActivation()\n",
       "          )\n",
       "          (output): BertOutput(\n",
       "            (dense): Linear(in_features=3072, out_features=768, bias=True)\n",
       "            (LayerNorm): LayerNorm((768,), eps=1e-12, elementwise_affine=True)\n",
       "            (dropout): Dropout(p=0.1, inplace=False)\n",
       "          )\n",
       "        )\n",
       "      )\n",
       "    )\n",
       "    (pooler): BertPooler(\n",
       "      (dense): Linear(in_features=768, out_features=768, bias=True)\n",
       "      (activation): Tanh()\n",
       "    )\n",
       "  )\n",
       "  (dropout): Dropout(p=0.1, inplace=False)\n",
       "  (classifier): Linear(in_features=768, out_features=5, bias=True)\n",
       ")"
      ]
     },
     "execution_count": 27,
     "metadata": {},
     "output_type": "execute_result"
    }
   ],
   "source": [
    "from transformers import BertForSequenceClassification,BertTokenizer,BertConfig\n",
    "config = BertConfig.from_pretrained(\"model_save\",output_hidden_states=True)\n",
    "model = BertForSequenceClassification.from_pretrained(\"model_save\",config=config,local_files_only=True)\n",
    "tokenizer = BertTokenizer.from_pretrained(\"model_save\",local_files_only=True)\n",
    "model.to(device)"
   ]
  },
  {
   "cell_type": "code",
   "execution_count": 109,
   "metadata": {},
   "outputs": [],
   "source": [
    "def line_to_embedding(tokenizer,model,line):\n",
    "    chunks = []\n",
    "    lens = []\n",
    "\n",
    "    for j in range(1,5):\n",
    "        col=\"JuicePath.\"+str(j)\n",
    "        in_text = df[col][line]\n",
    "        if isinstance(in_text,str):\n",
    "            encoded_sent = tokenizer.encode(\n",
    "                in_text,\n",
    "                add_special_tokens = True\n",
    "            )\n",
    "            if len(encoded_sent)>MAX_LEN:\n",
    "                encoded_sent = encoded_sent[1:-1]\n",
    "                chunk_len = MAX_LEN-2\n",
    "                for k in range(0,len(encoded_sent),chunk_len):\n",
    "                    tokens = encoded_sent[k:k+chunk_len]\n",
    "                    chunk = [tokenizer.cls_token_id] + tokens + [tokenizer.sep_token_id]\n",
    "                    chunks.append(chunk)\n",
    "                    lens.append(len(chunk))\n",
    "            else:\n",
    "                chunks.append(encoded_sent)\n",
    "                lens.append(len(encoded_sent))\n",
    "\n",
    "    \n",
    "\n",
    "    results = pad_sequences(chunks,\n",
    "                            maxlen=MAX_LEN,\n",
    "                            dtype=\"long\",\n",
    "                            truncating=\"post\",\n",
    "                            padding=\"post\"\n",
    "                            )\n",
    "    \n",
    "    attention_masks = []\n",
    "    for chunk in results:\n",
    "        attn_mask = [int(token>0) for token in chunk]\n",
    "        attention_masks.append(attn_mask)\n",
    "    \n",
    "    \n",
    "\n",
    "    chunks = torch.tensor(results)\n",
    "    attention_masks = torch.tensor(attention_masks)\n",
    "  \n",
    "    model.eval()\n",
    "\n",
    "    chunks=chunks.to(device)\n",
    "    attention_masks=attention_masks.to(device)\n",
    "    with torch.no_grad():\n",
    "        outputs= model(\n",
    "            chunks,\n",
    "            token_type_ids=None,\n",
    "            attention_mask = attention_masks\n",
    "        )\n",
    "    batch_no = chunks.shape[0]\n",
    "    encoded_layers = outputs[1]\n",
    "    layer_i=12\n",
    "    token_i=0\n",
    "    vecs = []\n",
    "    for batch_i in range(batch_no):\n",
    "        vec = encoded_layers[layer_i][batch_i][token_i]\n",
    "        vec = vec.detach().cpu().numpy()\n",
    "        vecs.append(vec)\n",
    "    total_len = np.sum(lens)\n",
    "    vec_weights = np.array([0]*768).astype(\"float64\")\n",
    "    for i in range(len(vecs)):\n",
    "        vec_weights+=vecs[i]*lens[i]/total_len\n",
    "    return (vec_weights)\n",
    "    \n"
   ]
  },
  {
   "cell_type": "code",
   "execution_count": 110,
   "metadata": {},
   "outputs": [
    {
     "name": "stdout",
     "output_type": "stream",
     "text": [
      "(768,)\n"
     ]
    }
   ],
   "source": [
    "input_text = df['JuicePath.1'][2]\n",
    "vec = line_to_embedding(tokenizer,model,2)\n",
    "\n",
    "print(vec.shape)\n"
   ]
  },
  {
   "cell_type": "code",
   "execution_count": 114,
   "metadata": {},
   "outputs": [
    {
     "name": "stdout",
     "output_type": "stream",
     "text": [
      "Generating Embeddings for all 1370 logs\n",
      "Log 100 of 1370 . Elapsed : 0:00:05\n",
      "Log 200 of 1370 . Elapsed : 0:00:09\n",
      "Log 300 of 1370 . Elapsed : 0:00:14\n",
      "Log 400 of 1370 . Elapsed : 0:00:20\n",
      "Log 500 of 1370 . Elapsed : 0:00:25\n",
      "Log 600 of 1370 . Elapsed : 0:00:29\n",
      "Log 700 of 1370 . Elapsed : 0:00:34\n",
      "Log 800 of 1370 . Elapsed : 0:00:39\n",
      "Log 900 of 1370 . Elapsed : 0:00:46\n",
      "Log 1000 of 1370 . Elapsed : 0:00:52\n",
      "Log 1100 of 1370 . Elapsed : 0:00:57\n",
      "Log 1200 of 1370 . Elapsed : 0:01:04\n",
      "Log 1300 of 1370 . Elapsed : 0:01:08\n"
     ]
    }
   ],
   "source": [
    "t0 = time.time()\n",
    "\n",
    "embeddings = []\n",
    "\n",
    "num_logs = len(df)\n",
    "print(f\"Generating Embeddings for all {num_logs} logs\")\n",
    "\n",
    "for index,row in df.iterrows():\n",
    "    if index%100==0 and not index == 0:\n",
    "        elapsed = format_time(time.time() - t0)\n",
    "        print(f\"Log {index} of {num_logs} . Elapsed : {elapsed}\")\n",
    "    vec = line_to_embedding(tokenizer,model,index)\n",
    "    embeddings.append(vec)\n"
   ]
  },
  {
   "cell_type": "code",
   "execution_count": 115,
   "metadata": {},
   "outputs": [
    {
     "data": {
      "text/plain": [
       "(1370, 768)"
      ]
     },
     "execution_count": 115,
     "metadata": {},
     "output_type": "execute_result"
    }
   ],
   "source": [
    "vecs = np.stack(embeddings)\n",
    "vecs.shape"
   ]
  },
  {
   "cell_type": "code",
   "execution_count": 117,
   "metadata": {},
   "outputs": [],
   "source": [
    "np.save(\"model_save/embeddings.npy\",vecs)"
   ]
  },
  {
   "cell_type": "code",
   "execution_count": 122,
   "metadata": {},
   "outputs": [
    {
     "name": "stdout",
     "output_type": "stream",
     "text": [
      "Building index took 0:00:00\n"
     ]
    }
   ],
   "source": [
    "import faiss\n",
    "\n",
    "cpu_index = faiss.IndexFlatL2(vecs.shape[1])\n",
    "\n",
    "t0 = time.time()\n",
    "cpu_index.add(vecs)\n",
    "elapsed = format_time(time.time()-t0)\n",
    "\n",
    "print(f\"Building index took {elapsed}\")"
   ]
  },
  {
   "cell_type": "code",
   "execution_count": 132,
   "metadata": {},
   "outputs": [
    {
     "name": "stdout",
     "output_type": "stream",
     "text": [
      "Input log \n",
      "log # 1\n",
      "Fut.SquadBattles.1.Test  apr                 pressing buttons  dpad right    apr                 pressing buttons  dpad right    apr                 pressing buttons  dpad right    apr                 pressing buttons  dpad right    apr                 pressing buttons  dpad right    apr                 pressing buttons  dpad right    apr                 pressing buttons  dpad right    apr                 pressing buttons  dpad right    apr                 pressing buttons  dpad right    apr                 pressing buttons  dpad right    apr                 pressing buttons  dpad right    apr                 pressing buttons  dpad right    apr                 successfully aborted the thread  thread was being aborted     apr                 the action tomainhub has timed out after            apr                 attempting to take timeout screenshot     apr                 screenshot was succesfully located  at filepath    ro filer juice   soak   sessionfiles ro dbserver ad ea com j     soak juicesessions     juicesession   scripttimeoutexception jpg  within the   second timeout period     apr                     apr                    script job             complete       apr                     apr                    game event counts for           apr                 numberofgamesplayed        apr                     apr                 last screenhandler    supportclub    current script action    tomainhub    error    apr                 xbcapture   ro filer juice   soak   sessionfiles ro dbserver ad ea com j     soak juicesessions     juicesession   error scriptlostexception      c  t    o on console      apr                 last screenhandler    supportclub    current script action    tomainhub    error    apr                 screenshot was succesfully located  at filepath    ro filer juice   soak   sessionfiles ro dbserver ad ea com j     soak juicesessions     juicesession   error scriptlostexception juice jpg  within the   second timeout period     apr                 sending the following string  script failed because of the following exception message  script timed out on following script action  tomainhub  last handler  unknown  last handler  unknown  last handler  supportclubscreenhandler  to bug sentry    apr                 event count numberofgamesplayed has been reset to       apr                 xbcapture  o    ro filer juice   soak   sessionfiles ro dbserver ad ea com j     soak juicesessions     juicesession   finalhardwarescreenshot png  on console      apr                        test failed       \n",
      "Log # 0\n",
      "L2 distance: 0.00\n",
      "Fut.SquadBattles.1.Test  apr                 pressing buttons  dpad right    apr                 pressing buttons  dpad right    apr                 pressing buttons  dpad right    apr                 pressing buttons  dpad right    apr                 pressing buttons  dpad right    apr                 pressing buttons  dpad right    apr                 pressing buttons  dpad right    apr                 pressing buttons  dpad right    apr                 pressing buttons  dpad right    apr                 pressing buttons  dpad right    apr                 pressing buttons  dpad right    apr                 pressing buttons  dpad right    apr                 successfully aborted the thread  thread was being aborted     apr                 the action tomainhub has timed out after            apr                 attempting to take timeout screenshot     apr                 screenshot was succesfully located  at filepath    ro filer juice   soak   sessionfiles ro dbserver ad ea com j     soak juicesessions     juicesession   scripttimeoutexception jpg  within the   second timeout period     apr                     apr                    script job             complete       apr                     apr                    game event counts for           apr                 numberofgamesplayed        apr                     apr                 last screenhandler    supportclub    current script action    tomainhub    error    apr                 xbcapture   ro filer juice   soak   sessionfiles ro dbserver ad ea com j     soak juicesessions     juicesession   error scriptlostexception      c  t    o on console      apr                 last screenhandler    supportclub    current script action    tomainhub    error    apr                 screenshot was succesfully located  at filepath    ro filer juice   soak   sessionfiles ro dbserver ad ea com j     soak juicesessions     juicesession   error scriptlostexception juice jpg  within the   second timeout period     apr                 sending the following string  script failed because of the following exception message  script timed out on following script action  tomainhub  last handler  unknown  last handler  unknown  last handler  supportclubscreenhandler  to bug sentry    apr                 event count numberofgamesplayed has been reset to       apr                 xbcapture  o    ro filer juice   soak   sessionfiles ro dbserver ad ea com j     soak juicesessions     juicesession   finalhardwarescreenshot png  on console      apr                        test failed       \n",
      "\n",
      "Log # 70\n",
      "L2 distance: 0.00\n",
      "Fut.SquadBattles.1.Test  apr                 pressing buttons  dpad right    apr                 pressing buttons  dpad right    apr                 pressing buttons  dpad right    apr                 pressing buttons  dpad right    apr                 pressing buttons  dpad right    apr                 pressing buttons  dpad right    apr                 pressing buttons  dpad right    apr                 pressing buttons  dpad right    apr                 pressing buttons  dpad right    apr                 pressing buttons  dpad right    apr                 pressing buttons  dpad right    apr                 pressing buttons  dpad right    apr                 successfully aborted the thread  thread was being aborted     apr                 the action tomainhub has timed out after            apr                 attempting to take timeout screenshot     apr                 screenshot was succesfully located  at filepath    ro filer juice   soak   sessionfiles ro dbserver ad ea com j     soak juicesessions     juicesession   scripttimeoutexception jpg  within the   second timeout period     apr                     apr                    script job             complete       apr                     apr                    game event counts for           apr                 numberofgamesplayed        apr                     apr                 last screenhandler    supportclub    current script action    tomainhub    error    apr                 xbcapture   ro filer juice   soak   sessionfiles ro dbserver ad ea com j     soak juicesessions     juicesession   error scriptlostexception      c  t    o on console      apr                 last screenhandler    supportclub    current script action    tomainhub    error    apr                 screenshot was succesfully located  at filepath    ro filer juice   soak   sessionfiles ro dbserver ad ea com j     soak juicesessions     juicesession   error scriptlostexception juice jpg  within the   second timeout period     apr                 sending the following string  script failed because of the following exception message  script timed out on following script action  tomainhub  last handler  unknown  last handler  unknown  last handler  supportclubscreenhandler  to bug sentry    apr                 event count numberofgamesplayed has been reset to       apr                 xbcapture  o    ro filer juice   soak   sessionfiles ro dbserver ad ea com j     soak juicesessions     juicesession   finalhardwarescreenshot png  on console      apr                        test failed       \n",
      "\n",
      "Log # 1309\n",
      "L2 distance: 0.00\n",
      "Fut.SquadBattles.1.Test  apr                 pressing buttons  dpad right    apr                 pressing buttons  dpad right    apr                 pressing buttons  dpad right    apr                 pressing buttons  dpad right    apr                 pressing buttons  dpad right    apr                 pressing buttons  dpad right    apr                 pressing buttons  dpad right    apr                 pressing buttons  dpad right    apr                 pressing buttons  dpad right    apr                 pressing buttons  dpad right    apr                 pressing buttons  dpad right    apr                 pressing buttons  dpad right    apr                 successfully aborted the thread  thread was being aborted     apr                 the action tomainhub has timed out after            apr                 attempting to take timeout screenshot     apr                 screenshot was succesfully located  at filepath    ro filer juice   soak   sessionfiles ro dbserver ad ea com j     soak juicesessions     juicesession   scripttimeoutexception jpg  within the   second timeout period     apr                     apr                    script job       complete       apr                     apr                    game event counts for           apr                 numberofgamesplayed        apr                     apr                 last screenhandler    supportclub    current script action    tomainhub    error    apr                 xbcapture   ro filer juice   soak   sessionfiles ro dbserver ad ea com j     soak juicesessions     juicesession   error scriptlostexception      c  t    o on console            apr                 last screenhandler    supportclub    current script action    tomainhub    error    apr                 screenshot was succesfully located  at filepath    ro filer juice   soak   sessionfiles ro dbserver ad ea com j     soak juicesessions     juicesession   error scriptlostexception juice jpg  within the   second timeout period     apr                 sending the following string  script failed because of the following exception message  script timed out on following script action  tomainhub  last handler  unknown  last handler  unknown  last handler  supportclubscreenhandler  to bug sentry    apr                 event count numberofgamesplayed has been reset to       apr                 xbcapture  o    ro filer juice   soak   sessionfiles ro dbserver ad ea com j     soak juicesessions     juicesession   finalhardwarescreenshot png  on console            apr                        test failed       \n",
      "\n",
      "Log # 81\n",
      "L2 distance: 0.13\n",
      "Fut.SquadBattles.1.Test  apr                 pressing buttons  dpad left    apr                 pressing buttons  dpad left    apr                 pressing buttons  dpad left    apr                 pressing buttons  dpad left    apr                 pressing buttons  dpad left    apr                 pressing buttons  dpad left    apr                 pressing buttons  dpad left    apr                 pressing buttons  dpad left    apr                 pressing buttons  dpad left    apr                 pressing buttons  dpad left    apr                 pressing buttons  dpad left    apr                 pressing buttons  dpad left    apr                 successfully aborted the thread  thread was being aborted     apr                 the action tomainhub has timed out after            apr                 attempting to take timeout screenshot     apr                 screenshot was succesfully located  at filepath    ro filer juice   soak   sessionfiles ro dbserver ad ea com j     soak juicesessions     juicesession   scripttimeoutexception jpg  within the   second timeout period     apr                     apr                    script job             complete       apr                     apr                    game event counts for           apr                 numberofgamesplayed        apr                     apr                 last screenhandler    supportclub    current script action    tomainhub    error    apr                 xbcapture   ro filer juice   soak   sessionfiles ro dbserver ad ea com j     soak juicesessions     juicesession   error scriptlostexception      c  t    o on console      apr                 last screenhandler    supportclub    current script action    tomainhub    error    apr                 screenshot was succesfully located  at filepath    ro filer juice   soak   sessionfiles ro dbserver ad ea com j     soak juicesessions     juicesession   error scriptlostexception juice jpg  within the   second timeout period     apr                 sending the following string  script failed because of the following exception message  script timed out on following script action  tomainhub  last handler  unknown  last handler  unknown  last handler  supportclubscreenhandler  to bug sentry    apr                 event count numberofgamesplayed has been reset to       apr                 xbcapture  o    ro filer juice   soak   sessionfiles ro dbserver ad ea com j     soak juicesessions     juicesession   finalhardwarescreenshot png  on console      apr                        test failed       \n",
      "\n",
      "Log # 1302\n",
      "L2 distance: 0.13\n",
      "Fut.SquadBattles.1.Test  apr                 pressing buttons  dpad left    apr                 pressing buttons  dpad left    apr                 pressing buttons  dpad left    apr                 pressing buttons  dpad left    apr                 pressing buttons  dpad left    apr                 pressing buttons  dpad left    apr                 pressing buttons  dpad left    apr                 pressing buttons  dpad left    apr                 pressing buttons  dpad left    apr                 pressing buttons  dpad left    apr                 pressing buttons  dpad left    apr                 pressing buttons  dpad left    apr                 successfully aborted the thread  thread was being aborted     apr                 the action tomainhub has timed out after            apr                 attempting to take timeout screenshot     apr                 screenshot was succesfully located  at filepath    ro filer juice   soak   sessionfiles ro dbserver ad ea com j     soak juicesessions     juicesession   scripttimeoutexception jpg  within the   second timeout period     apr                     apr                    script job       complete       apr                     apr                    game event counts for           apr                 numberofgamesplayed        apr                     apr                 last screenhandler    supportclub    current script action    tomainhub    error    apr                 xbcapture   ro filer juice   soak   sessionfiles ro dbserver ad ea com j     soak juicesessions     juicesession   error scriptlostexception      c  t    o on console            apr                 last screenhandler    supportclub    current script action    tomainhub    error    apr                 screenshot was succesfully located  at filepath    ro filer juice   soak   sessionfiles ro dbserver ad ea com j     soak juicesessions     juicesession   error scriptlostexception juice jpg  within the   second timeout period     apr                 sending the following string  script failed because of the following exception message  script timed out on following script action  tomainhub  last handler  unknown  last handler  unknown  last handler  supportclubscreenhandler  to bug sentry    apr                 event count numberofgamesplayed has been reset to       apr                 xbcapture  o    ro filer juice   soak   sessionfiles ro dbserver ad ea com j     soak juicesessions     juicesession   finalhardwarescreenshot png  on console            apr                        test failed       \n",
      "\n",
      "Log # 1298\n",
      "L2 distance: 3.40\n",
      "Fut.OnlineDraft.2.Soak  apr                 pressing buttons  dpad right    apr                 pressing buttons  dpad right    apr                 pressing buttons  dpad right    apr                 pressing buttons  dpad right    apr                 pressing buttons  dpad right    apr                 pressing buttons  dpad right    apr                 pressing buttons  dpad right    apr                 pressing buttons  dpad right    apr                 pressing buttons  dpad right    apr                 pressing buttons  dpad right    apr                 pressing buttons  dpad right    apr                 pressing buttons  dpad right    apr                 successfully aborted the thread  thread was being aborted     apr                 the action tomainhub has timed out after            apr                 attempting to take timeout screenshot     apr                 screenshot was succesfully located  at filepath    ro filer juice   soak   sessionfiles ro dbserver ad ea com j     soak juicesessions     juicesession   scripttimeoutexception jpg  within the   second timeout period     apr                     apr                    script job       complete       apr                     apr                    game event counts for           apr                 numberofgamesplayed        apr                     apr                 last screenhandler    supportclub    current script action    tomainhub    error    apr                 xbcapture   ro filer juice   soak   sessionfiles ro dbserver ad ea com j     soak juicesessions     juicesession   error scriptlostexception      c  t    o on console            apr                 last screenhandler    supportclub    current script action    tomainhub    error    apr                 screenshot was succesfully located  at filepath    ro filer juice   soak   sessionfiles ro dbserver ad ea com j     soak juicesessions     juicesession   error scriptlostexception juice jpg  within the   second timeout period     apr                 sending the following string  script failed because of the following exception message  script timed out on following script action  tomainhub  last handler  unknown  last handler  unknown  last handler  supportclubscreenhandler  to bug sentry    apr                 event count numberofgamesplayed has been reset to       apr                 xbcapture  o    ro filer juice   soak   sessionfiles ro dbserver ad ea com j     soak juicesessions     juicesession   finalhardwarescreenshot png  on console            apr                        test failed       \n",
      "\n"
     ]
    }
   ],
   "source": [
    "print(\"Input log \")\n",
    "print(\"log # 1\")\n",
    "\n",
    "print(df['JuicePath.1'][0])\n",
    "\n",
    "D,I = cpu_index.search(vecs[0].reshape(1,768),k=6)\n",
    "\n",
    "for i in range(I.shape[1]):\n",
    "    result_i = I[0,i]\n",
    "    log = df['JuicePath.1'][result_i]\n",
    "    print(f\"Log # {result_i}\")\n",
    "    print(f\"L2 distance: {D[0,i]:.2f}\")\n",
    "    print(log)\n",
    "    print('')"
   ]
  }
 ],
 "metadata": {
  "kernelspec": {
   "display_name": "Python 3",
   "language": "python",
   "name": "python3"
  },
  "language_info": {
   "codemirror_mode": {
    "name": "ipython",
    "version": 3
   },
   "file_extension": ".py",
   "mimetype": "text/x-python",
   "name": "python",
   "nbconvert_exporter": "python",
   "pygments_lexer": "ipython3",
   "version": "3.10.11"
  },
  "orig_nbformat": 4
 },
 "nbformat": 4,
 "nbformat_minor": 2
}
